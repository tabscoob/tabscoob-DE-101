{
 "cells": [
  {
   "cell_type": "code",
   "execution_count": 1,
   "metadata": {},
   "outputs": [],
   "source": [
    "import pandas as pd"
   ]
  },
  {
   "cell_type": "code",
   "execution_count": 2,
   "metadata": {},
   "outputs": [
    {
     "name": "stderr",
     "output_type": "stream",
     "text": [
      "C:\\Users\\lina9\\AppData\\Local\\Temp\\ipykernel_19052\\309796610.py:5: DtypeWarning: Columns (10) have mixed types. Specify dtype option on import or set low_memory=False.\n",
      "  df_movies_metadata= pd.read_csv('../../resources/kaggle.com_datasets_rounakbanik_the-movies-dataset/movies_metadata.csv')\n"
     ]
    }
   ],
   "source": [
    "df_ratings= pd.read_csv('../../resources/kaggle.com_datasets_rounakbanik_the-movies-dataset/ratings_small.csv')\n",
    "df_keywords= pd.read_csv('../../resources/kaggle.com_datasets_rounakbanik_the-movies-dataset/keywords.csv')\n",
    "df_credits= pd.read_csv('../../resources/kaggle.com_datasets_rounakbanik_the-movies-dataset/credits.csv')\n",
    "df_links= pd.read_csv('../../resources/kaggle.com_datasets_rounakbanik_the-movies-dataset/links.csv')\n",
    "df_movies_metadata= pd.read_csv('../../resources/kaggle.com_datasets_rounakbanik_the-movies-dataset/movies_metadata.csv')"
   ]
  }
 ],
 "metadata": {
  "interpreter": {
   "hash": "6bb2ae3932c34dbd81b7192bcf477f37051d65d74ffec9375e7f772d4d892056"
  },
  "kernelspec": {
   "display_name": "Python 3.9.7 ('tabscoob_DE_101')",
   "language": "python",
   "name": "python3"
  },
  "language_info": {
   "codemirror_mode": {
    "name": "ipython",
    "version": 3
   },
   "file_extension": ".py",
   "mimetype": "text/x-python",
   "name": "python",
   "nbconvert_exporter": "python",
   "pygments_lexer": "ipython3",
   "version": "3.9.7"
  },
  "orig_nbformat": 4
 },
 "nbformat": 4,
 "nbformat_minor": 2
}
