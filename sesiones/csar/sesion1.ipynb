{
 "cells": [
  {
   "cell_type": "code",
   "execution_count": null,
   "metadata": {},
   "outputs": [],
   "source": [
    "import pandas as pd"
   ]
  },
  {
   "cell_type": "code",
   "execution_count": null,
   "metadata": {},
   "outputs": [],
   "source": [
    "df_ratings= pd.read_csv('../../resources/kaggle.com_datasets_rounakbanik_the-movies-dataset/ratings_small.csv')\n",
    "df_keywoards= pd.read_csv('../../resources/kaggle.com_datasets_rounakbanik_the-movies-dataset/keywords.csv')\n",
    "df_credits= pd.read_csv('../../resources/kaggle.com_datasets_rounakbanik_the-movies-dataset/credits.csv')\n",
    "df_links= pd.read_csv('../../resources/kaggle.com_datasets_rounakbanik_the-movies-dataset/links.csv')\n",
    "df_movies_metadata= pd.read_csv('../../resources/kaggle.com_datasets_rounakbanik_the-movies-dataset/movies_metadata.csv')"
   ]
  }
 ],
 "metadata": {
  "language_info": {
   "name": "python"
  },
  "orig_nbformat": 4
 },
 "nbformat": 4,
 "nbformat_minor": 2
}
